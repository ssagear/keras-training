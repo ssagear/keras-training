{
 "cells": [
  {
   "cell_type": "markdown",
   "metadata": {},
   "source": [
    "# Histograms of Inputs"
   ]
  },
  {
   "cell_type": "code",
   "execution_count": 180,
   "metadata": {},
   "outputs": [],
   "source": [
    "import sys, os, getopt, h5py\n",
    "import numpy as np\n",
    "import matplotlib.pyplot as plt\n",
    "from sklearn import preprocessing"
   ]
  },
  {
   "cell_type": "markdown",
   "metadata": {},
   "source": [
    "Open h5 file with inputs"
   ]
  },
  {
   "cell_type": "code",
   "execution_count": 181,
   "metadata": {},
   "outputs": [
    {
     "name": "stdout",
     "output_type": "stream",
     "text": [
      "('j_ptfrac', 'j_pt', 'j_eta', 'j_mass', 'j_tau1_b1', 'j_tau2_b1', 'j_tau3_b1', 'j_tau1_b2', 'j_tau2_b2', 'j_tau3_b2', 'j_tau32_b1', 'j_tau32_b2', 'j_zlogz', 'j_c1_b0', 'j_c1_b1', 'j_c1_b2', 'j_c2_b1', 'j_c2_b2', 'j_d2_b1', 'j_d2_b2', 'j_d2_a1_b1', 'j_d2_a1_b2', 'j_m2_b1', 'j_m2_b2', 'j_n2_b1', 'j_n2_b2', 'j_tau1_b1_mmdt', 'j_tau2_b1_mmdt', 'j_tau3_b1_mmdt', 'j_tau1_b2_mmdt', 'j_tau2_b2_mmdt', 'j_tau3_b2_mmdt', 'j_tau32_b1_mmdt', 'j_tau32_b2_mmdt', 'j_c1_b0_mmdt', 'j_c1_b1_mmdt', 'j_c1_b2_mmdt', 'j_c2_b1_mmdt', 'j_c2_b2_mmdt', 'j_d2_b1_mmdt', 'j_d2_b2_mmdt', 'j_d2_a1_b1_mmdt', 'j_d2_a1_b2_mmdt', 'j_m2_b1_mmdt', 'j_m2_b2_mmdt', 'j_n2_b1_mmdt', 'j_n2_b2_mmdt', 'j_mass_trim', 'j_mass_mmdt', 'j_mass_prun', 'j_mass_sdb2', 'j_mass_sdm1', 'j_multiplicity', 'j_g', 'j_q', 'j_w', 'j_z', 'j_t', 'j_undef')\n"
     ]
    }
   ],
   "source": [
    "h5File = h5py.File('/Users/sheilasagear/github/keras-training-ssagear/keras-training/data/processed-pythia82-lhc13-all-pt1-50k-r1_h022_e0175_t220_nonu_truth.z')\n",
    "treeArray = h5File['t_allpar_new'][()]\n",
    "print(treeArray.dtype.names)\n"
   ]
  },
  {
   "cell_type": "markdown",
   "metadata": {},
   "source": [
    "## 1: Mass histograms"
   ]
  },
  {
   "cell_type": "code",
   "execution_count": 182,
   "metadata": {},
   "outputs": [],
   "source": [
    "tau = treeArray['j_tau2_b1_mmdt']\n",
    "c = treeArray['j_c2_b1_mmdt']\n",
    "d = treeArray['j_d2_b1_mmdt']\n",
    "m = treeArray['j_m2_b1_mmdt']\n",
    "n = treeArray['j_n2_b1_mmdt']"
   ]
  },
  {
   "cell_type": "markdown",
   "metadata": {},
   "source": [
    "Inputs before normalization"
   ]
  },
  {
   "cell_type": "code",
   "execution_count": 183,
   "metadata": {},
   "outputs": [
    {
     "data": {
      "image/png": "[encoded data removed]",
      "text/plain": [
       "<Figure size 432x288 with 1 Axes>"
      ]
     },
     "metadata": {
      "needs_background": "light"
     },
     "output_type": "display_data"
    }
   ],
   "source": [
    "plt.hist(tau, bins, alpha=0.5, label='tau')\n",
    "plt.hist(c, bins, alpha=0.5, label='c')\n",
    "plt.hist(d, bins, alpha=0.5, label='d')\n",
    "plt.legend(loc='upper right')\n",
    "plt.show()"
   ]
  },
  {
   "cell_type": "markdown",
   "metadata": {},
   "source": [
    "We need to reshape the input arrays in order to feed them into normalization function"
   ]
  },
  {
   "cell_type": "code",
   "execution_count": 184,
   "metadata": {},
   "outputs": [],
   "source": [
    "#reshape into 2d arrays\n",
    "tau = tau.reshape(-1,1)\n",
    "c = c.reshape(-1,1)\n",
    "d = d.reshape(-1,1)\n",
    "m = m.reshape(-1,1)\n",
    "n = n.reshape(-1,1)"
   ]
  },
  {
   "cell_type": "markdown",
   "metadata": {},
   "source": [
    "#### MinMax Scaler"
   ]
  },
  {
   "cell_type": "code",
   "execution_count": 185,
   "metadata": {},
   "outputs": [],
   "source": [
    "scaler = preprocessing.MinMaxScaler().fit(tau)\n",
    "tau = scaler.transform(tau)\n",
    "\n",
    "scaler = preprocessing.MinMaxScaler().fit(c)\n",
    "c = scaler.transform(c)\n",
    "\n",
    "scaler = preprocessing.MinMaxScaler().fit(d)\n",
    "d = scaler.transform(d)\n",
    "\n",
    "scaler = preprocessing.MinMaxScaler().fit(m)\n",
    "m = scaler.transform(m)\n",
    "\n",
    "scaler = preprocessing.MinMaxScaler().fit(n)\n",
    "n = scaler.transform(n)"
   ]
  },
  {
   "cell_type": "markdown",
   "metadata": {},
   "source": [
    "Normalized inputs"
   ]
  },
  {
   "cell_type": "code",
   "execution_count": 186,
   "metadata": {},
   "outputs": [
    {
     "data": {
      "image/png": "[encoded data removed]",
      "text/plain": [
       "<Figure size 432x288 with 1 Axes>"
      ]
     },
     "metadata": {
      "needs_background": "light"
     },
     "output_type": "display_data"
    }
   ],
   "source": [
    "plt.hist(tau, bins, alpha=0.5, label='tau')\n",
    "plt.hist(c, bins, alpha=0.5, label='c')\n",
    "plt.hist(d, bins, alpha=0.5, label='d')\n",
    "plt.hist(m, bins, alpha=0.5, label='m')\n",
    "plt.hist(n, bins, alpha=0.5, label='n')\n",
    "plt.title('MinMax Scaler Normalization')\n",
    "plt.xlabel('$m_{mMDT}$')\n",
    "plt.ylabel('# of events')\n",
    "plt.legend(loc='upper right')\n",
    "#plt.show()\n",
    "\n",
    "plt.savefig('/Users/sheilasagear/github/keras-training-ssagear/keras-training/exploratory/minmax_mmdt.png')"
   ]
  },
  {
   "cell_type": "markdown",
   "metadata": {},
   "source": [
    "#### Standard Scaler"
   ]
  },
  {
   "cell_type": "code",
   "execution_count": 187,
   "metadata": {},
   "outputs": [],
   "source": [
    "tau_s = treeArray['j_tau2_b1_mmdt']\n",
    "c_s = treeArray['j_c2_b1_mmdt']\n",
    "d_s = treeArray['j_d2_b1_mmdt']\n",
    "m_s = treeArray['j_m2_b1_mmdt']\n",
    "n_s = treeArray['j_n2_b1_mmdt']"
   ]
  },
  {
   "cell_type": "code",
   "execution_count": 188,
   "metadata": {},
   "outputs": [],
   "source": [
    "#reshape into 2d arrays\n",
    "tau_s = tau_s.reshape(-1,1)\n",
    "c_s = c_s.reshape(-1,1)\n",
    "d_s = d_s.reshape(-1,1)\n",
    "m_s = m_s.reshape(-1,1)\n",
    "n_s = n_s.reshape(-1,1)"
   ]
  },
  {
   "cell_type": "code",
   "execution_count": 189,
   "metadata": {},
   "outputs": [],
   "source": [
    "scaler = preprocessing.StandardScaler().fit(tau_s)\n",
    "tau_s = scaler.transform(tau_s)\n",
    "\n",
    "scaler = preprocessing.StandardScaler().fit(c_s)\n",
    "c_s = scaler.transform(c_s)\n",
    "\n",
    "scaler = preprocessing.StandardScaler().fit(d_s)\n",
    "d_s = scaler.transform(d_s)\n",
    "\n",
    "scaler = preprocessing.StandardScaler().fit(m_s)\n",
    "m_s = scaler.transform(m_s)\n",
    "\n",
    "scaler = preprocessing.StandardScaler().fit(n_s)\n",
    "n_s = scaler.transform(n_s)"
   ]
  },
  {
   "cell_type": "markdown",
   "metadata": {},
   "source": [
    "Normalized inputs"
   ]
  },
  {
   "cell_type": "code",
   "execution_count": 190,
   "metadata": {},
   "outputs": [
    {
     "data": {
      "image/png": "[encoded data removed]",
      "text/plain": [
       "<Figure size 432x288 with 1 Axes>"
      ]
     },
     "metadata": {
      "needs_background": "light"
     },
     "output_type": "display_data"
    }
   ],
   "source": [
    "plt.hist(tau_s, bins, alpha=0.5, label='tau')\n",
    "plt.hist(c_s, bins, alpha=0.5, label='c')\n",
    "plt.hist(d_s, bins, alpha=0.5, label='d')\n",
    "plt.hist(m_s, bins, alpha=0.5, label='m')\n",
    "plt.hist(n_s, bins, alpha=0.5, label='n')\n",
    "plt.title('Standard Scaler Normalization')\n",
    "plt.xlabel('$m_{mMDT}$')\n",
    "plt.ylabel('# of events')\n",
    "plt.legend(loc='upper right')\n",
    "#plt.show()\n",
    "\n",
    "plt.savefig('/Users/sheilasagear/github/keras-training-ssagear/keras-training/exploratory/standard_mmdt.png')"
   ]
  },
  {
   "cell_type": "markdown",
   "metadata": {},
   "source": [
    "## 2: some other input histograms"
   ]
  },
  {
   "cell_type": "code",
   "execution_count": 191,
   "metadata": {},
   "outputs": [],
   "source": [
    "tau = treeArray['j_tau2_b1']\n",
    "c = treeArray['j_c2_b1']\n",
    "d = treeArray['j_d2_b1']\n",
    "m = treeArray['j_m2_b1']\n",
    "n = treeArray['j_n2_b1']"
   ]
  },
  {
   "cell_type": "code",
   "execution_count": 192,
   "metadata": {},
   "outputs": [],
   "source": [
    "#reshape into 2d arrays\n",
    "tau = tau.reshape(-1,1)\n",
    "c = c.reshape(-1,1)\n",
    "d = d.reshape(-1,1)\n",
    "m = m.reshape(-1,1)\n",
    "n = n.reshape(-1,1)"
   ]
  },
  {
   "cell_type": "markdown",
   "metadata": {},
   "source": [
    "#### MinMax Scaler"
   ]
  },
  {
   "cell_type": "code",
   "execution_count": 193,
   "metadata": {},
   "outputs": [],
   "source": [
    "scaler = preprocessing.MinMaxScaler().fit(tau)\n",
    "tau = scaler.transform(tau)\n",
    "\n",
    "scaler = preprocessing.MinMaxScaler().fit(c)\n",
    "c = scaler.transform(c)\n",
    "\n",
    "scaler = preprocessing.MinMaxScaler().fit(d)\n",
    "d = scaler.transform(d)\n",
    "\n",
    "scaler = preprocessing.MinMaxScaler().fit(m)\n",
    "m = scaler.transform(m)\n",
    "\n",
    "scaler = preprocessing.MinMaxScaler().fit(n)\n",
    "n = scaler.transform(n)"
   ]
  },
  {
   "cell_type": "markdown",
   "metadata": {},
   "source": [
    "Normalized inputs"
   ]
  },
  {
   "cell_type": "code",
   "execution_count": 194,
   "metadata": {},
   "outputs": [
    {
     "data": {
      "image/png": "[encoded data removed]",
      "text/plain": [
       "<Figure size 432x288 with 1 Axes>"
      ]
     },
     "metadata": {
      "needs_background": "light"
     },
     "output_type": "display_data"
    }
   ],
   "source": [
    "plt.hist(tau, bins, alpha=0.5, label='tau')\n",
    "plt.hist(c, bins, alpha=0.5, label='c')\n",
    "plt.hist(d, bins, alpha=0.5, label='d')\n",
    "plt.hist(m, bins, alpha=0.5, label='m')\n",
    "plt.hist(n, bins, alpha=0.5, label='n')\n",
    "plt.title('MinMax Scaler Normalization')\n",
    "plt.xlabel('$something$')\n",
    "plt.ylabel('# of events')\n",
    "plt.legend(loc='upper right')\n",
    "#plt.show()\n",
    "\n",
    "plt.savefig('/Users/sheilasagear/github/keras-training-ssagear/keras-training/exploratory/minmax_b.png')"
   ]
  },
  {
   "cell_type": "markdown",
   "metadata": {},
   "source": [
    "#### Standard Scaler"
   ]
  },
  {
   "cell_type": "code",
   "execution_count": 195,
   "metadata": {},
   "outputs": [],
   "source": [
    "tau = treeArray['j_tau2_b1']\n",
    "c = treeArray['j_c2_b1']\n",
    "d = treeArray['j_d2_b1']\n",
    "m = treeArray['j_m2_b1']\n",
    "n = treeArray['j_n2_b1']"
   ]
  },
  {
   "cell_type": "code",
   "execution_count": 196,
   "metadata": {},
   "outputs": [],
   "source": [
    "#reshape into 2d arrays\n",
    "tau = tau.reshape(-1,1)\n",
    "c = c.reshape(-1,1)\n",
    "d = d.reshape(-1,1)\n",
    "m = m.reshape(-1,1)\n",
    "n = n.reshape(-1,1)"
   ]
  },
  {
   "cell_type": "code",
   "execution_count": 197,
   "metadata": {},
   "outputs": [],
   "source": [
    "scaler = preprocessing.StandardScaler().fit(tau)\n",
    "tau = scaler.transform(tau)\n",
    "\n",
    "scaler = preprocessing.StandardScaler().fit(c)\n",
    "c = scaler.transform(c)\n",
    "\n",
    "scaler = preprocessing.StandardScaler().fit(d)\n",
    "d = scaler.transform(d)\n",
    "\n",
    "scaler = preprocessing.StandardScaler().fit(m)\n",
    "m = scaler.transform(m)\n",
    "\n",
    "scaler = preprocessing.StandardScaler().fit(n)\n",
    "n = scaler.transform(n)"
   ]
  },
  {
   "cell_type": "markdown",
   "metadata": {},
   "source": [
    "Normalized inputs"
   ]
  },
  {
   "cell_type": "code",
   "execution_count": 198,
   "metadata": {},
   "outputs": [
    {
     "data": {
      "image/png": "[encoded data removed]",
      "text/plain": [
       "<Figure size 432x288 with 1 Axes>"
      ]
     },
     "metadata": {
      "needs_background": "light"
     },
     "output_type": "display_data"
    }
   ],
   "source": [
    "plt.hist(tau, bins, alpha=0.5, label='tau')\n",
    "plt.hist(c, bins, alpha=0.5, label='c')\n",
    "plt.hist(d, bins, alpha=0.5, label='d')\n",
    "plt.hist(m, bins, alpha=0.5, label='m')\n",
    "plt.hist(n, bins, alpha=0.5, label='n')\n",
    "plt.title('Standard Scaler Normalization')\n",
    "plt.xlabel('$something$')\n",
    "plt.ylabel('# of events')\n",
    "plt.legend(loc='upper right')\n",
    "#plt.show()\n",
    "\n",
    "plt.savefig('/Users/sheilasagear/github/keras-training-ssagear/keras-training/exploratory/standard_b.png')"
   ]
  },
  {
   "cell_type": "markdown",
   "metadata": {},
   "source": [
    "#### Why does StandardScaler look like this?? ^"
   ]
  },
  {
   "cell_type": "code",
   "execution_count": null,
   "metadata": {},
   "outputs": [],
   "source": []
  }
 ],
 "metadata": {
  "kernelspec": {
   "display_name": "Python 3",
   "language": "python",
   "name": "python3"
  },
  "language_info": {
   "codemirror_mode": {
    "name": "ipython",
    "version": 3
   },
   "file_extension": ".py",
   "mimetype": "text/x-python",
   "name": "python",
   "nbconvert_exporter": "python",
   "pygments_lexer": "ipython3",
   "version": "3.6.8"
  }
 },
 "nbformat": 4,
 "nbformat_minor": 2
}
