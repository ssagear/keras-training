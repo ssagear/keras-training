{
 "cells": [
  {
   "cell_type": "markdown",
   "metadata": {},
   "source": [
    "# Histograms of Inputs"
   ]
  },
  {
   "cell_type": "code",
   "execution_count": 361,
   "metadata": {},
   "outputs": [],
   "source": [
    "import sys, os, getopt, h5py\n",
    "import numpy as np\n",
    "import matplotlib.pyplot as plt\n",
    "from sklearn import preprocessing\n",
    "import pandas as pd"
   ]
  },
  {
   "cell_type": "markdown",
   "metadata": {},
   "source": [
    "Open h5 file with inputs"
   ]
  },
  {
   "cell_type": "code",
   "execution_count": 362,
   "metadata": {},
   "outputs": [
    {
     "name": "stdout",
     "output_type": "stream",
     "text": [
      "('j_ptfrac', 'j_pt', 'j_eta', 'j_mass', 'j_tau1_b1', 'j_tau2_b1', 'j_tau3_b1', 'j_tau1_b2', 'j_tau2_b2', 'j_tau3_b2', 'j_tau32_b1', 'j_tau32_b2', 'j_zlogz', 'j_c1_b0', 'j_c1_b1', 'j_c1_b2', 'j_c2_b1', 'j_c2_b2', 'j_d2_b1', 'j_d2_b2', 'j_d2_a1_b1', 'j_d2_a1_b2', 'j_m2_b1', 'j_m2_b2', 'j_n2_b1', 'j_n2_b2', 'j_tau1_b1_mmdt', 'j_tau2_b1_mmdt', 'j_tau3_b1_mmdt', 'j_tau1_b2_mmdt', 'j_tau2_b2_mmdt', 'j_tau3_b2_mmdt', 'j_tau32_b1_mmdt', 'j_tau32_b2_mmdt', 'j_c1_b0_mmdt', 'j_c1_b1_mmdt', 'j_c1_b2_mmdt', 'j_c2_b1_mmdt', 'j_c2_b2_mmdt', 'j_d2_b1_mmdt', 'j_d2_b2_mmdt', 'j_d2_a1_b1_mmdt', 'j_d2_a1_b2_mmdt', 'j_m2_b1_mmdt', 'j_m2_b2_mmdt', 'j_n2_b1_mmdt', 'j_n2_b2_mmdt', 'j_mass_trim', 'j_mass_mmdt', 'j_mass_prun', 'j_mass_sdb2', 'j_mass_sdm1', 'j_multiplicity', 'j_g', 'j_q', 'j_w', 'j_z', 'j_t', 'j_undef')\n"
     ]
    }
   ],
   "source": [
    "h5File = h5py.File('/Users/sheilasagear/github/keras-training-ssagear/keras-training/data/processed-pythia82-lhc13-all-pt1-50k-r1_h022_e0175_t220_nonu_truth.z')\n",
    "treeArray = h5File['t_allpar_new'][()]\n",
    "#treeArray = h5File['t_allpar_new']\n",
    "print(treeArray.dtype.names)\n"
   ]
  },
  {
   "cell_type": "markdown",
   "metadata": {},
   "source": [
    "## 1: Mass histograms"
   ]
  },
  {
   "cell_type": "code",
   "execution_count": 367,
   "metadata": {},
   "outputs": [],
   "source": [
    "tau = treeArray['j_tau2_b1_mmdt']\n",
    "c = treeArray['j_c2_b1_mmdt']\n",
    "d = treeArray['j_d2_b1_mmdt']\n",
    "m = treeArray['j_m2_b1_mmdt']\n",
    "n = treeArray['j_n2_b1_mmdt']"
   ]
  },
  {
   "cell_type": "code",
   "execution_count": 368,
   "metadata": {},
   "outputs": [
    {
     "name": "stdout",
     "output_type": "stream",
     "text": [
      "        j_g      j_mass  j_t\n",
      "0         0   80.223488    0\n",
      "1         0   97.470917    1\n",
      "2         0  103.419235    1\n",
      "3         0   49.522465    0\n",
      "4         0  119.218254    1\n",
      "5         0   52.575829    0\n",
      "6         1  172.947708    0\n",
      "7         0   92.016342    0\n",
      "8         0   87.790001    0\n",
      "9         0   46.288994    0\n",
      "10        1  109.397980    0\n",
      "11        0  173.476624    1\n",
      "12        0   97.900085    0\n",
      "13        0   93.017441    0\n",
      "14        1  170.442551    0\n",
      "15        0   60.004940    0\n",
      "16        0   83.044739    0\n",
      "17        0   85.314339    0\n",
      "18        0  175.278290    1\n",
      "19        0   95.061218    0\n",
      "20        0  179.845901    1\n",
      "21        1  130.370010    0\n",
      "22        0  100.746025    1\n",
      "23        0  100.150032    1\n",
      "24        0   90.058685    0\n",
      "25        0   84.173927    0\n",
      "26        0   87.894104    0\n",
      "27        0   71.503036    1\n",
      "28        0   44.861969    0\n",
      "29        0   89.053627    0\n",
      "...     ...         ...  ...\n",
      "986776    0   98.334549    0\n",
      "986777    0   86.198578    0\n",
      "986778    0   81.209358    0\n",
      "986779    0  172.070816    1\n",
      "986780    0   91.390778    0\n",
      "986781    0  174.528351    1\n",
      "986782    0   86.777405    0\n",
      "986783    0  127.428772    1\n",
      "986784    0   79.196495    0\n",
      "986785    0   81.839218    0\n",
      "986786    0   29.989058    0\n",
      "986787    0   81.715714    0\n",
      "986788    0   49.502823    0\n",
      "986789    0   79.994873    0\n",
      "986790    0   95.130844    0\n",
      "986791    0  173.287994    1\n",
      "986792    0   71.820351    0\n",
      "986793    0   81.858917    0\n",
      "986794    0   44.198292    0\n",
      "986795    0   73.974686    0\n",
      "986796    1   64.556244    0\n",
      "986797    1  103.950058    0\n",
      "986798    0  135.898636    1\n",
      "986799    0  162.797821    1\n",
      "986800    0   81.125488    1\n",
      "986801    0  126.982788    0\n",
      "986802    0   90.985825    0\n",
      "986803    0   89.748383    1\n",
      "986804    1   74.039505    0\n",
      "986805    0   83.078911    0\n",
      "\n",
      "[986806 rows x 3 columns]\n",
      "(986806, 3)\n",
      "(986806,)\n"
     ]
    }
   ],
   "source": [
    "labels = ['j_t','j_g']\n",
    "features = ['j_mass']\n",
    "df = pd.DataFrame(treeArray,columns=list(set(features+labels)))\n",
    "#print(df['j_t'][:])\n",
    "#df = (df['j_t']==1)\n",
    "print(df[:][:])\n",
    "print(df.shape)\n",
    "print(treeArray.shape)"
   ]
  },
  {
   "cell_type": "code",
   "execution_count": 369,
   "metadata": {},
   "outputs": [],
   "source": [
    "labels = ['j_t']\n",
    "features = ['j_mass']\n",
    "df = pd.DataFrame(treeArray,columns=list(set(features+labels)))\n",
    "#print(df[:][:])\n",
    "\n",
    "top_mass = []\n",
    "\n",
    "for i in range(len(df)):\n",
    "    if df['j_t'][i] == 1:\n",
    "        top_mass.append(df['j_mass'][i])\n",
    "        np.asarray(top_mass)"
   ]
  },
  {
   "cell_type": "code",
   "execution_count": null,
   "metadata": {},
   "outputs": [],
   "source": [
    "labels = ['j_g']\n",
    "features = ['j_mass']\n",
    "df = pd.DataFrame(treeArray,columns=list(set(features+labels)))\n",
    "\n",
    "g_mass = []\n",
    "\n",
    "for i in range(len(df)):\n",
    "    if df['j_g'][i] == 1:\n",
    "        g_mass.append(df['j_mass'][i])\n",
    "        np.asarray(g_mass)"
   ]
  },
  {
   "cell_type": "code",
   "execution_count": null,
   "metadata": {},
   "outputs": [],
   "source": [
    "labels = ['j_w']\n",
    "features = ['j_mass']\n",
    "df = pd.DataFrame(treeArray,columns=list(set(features+labels)))\n",
    "\n",
    "w_mass = []\n",
    "\n",
    "for i in range(len(df)):\n",
    "    if df['j_w'][i] == 1:\n",
    "        w_mass.append(df['j_mass'][i])\n",
    "        np.asarray(w_mass)"
   ]
  },
  {
   "cell_type": "code",
   "execution_count": null,
   "metadata": {},
   "outputs": [],
   "source": [
    "labels = ['j_q']\n",
    "features = ['j_mass']\n",
    "df = pd.DataFrame(treeArray,columns=list(set(features+labels)))\n",
    "#print(df[:][:])\n",
    "\n",
    "q_mass = []\n",
    "\n",
    "for i in range(len(df)):\n",
    "    if df['j_q'][i] == 1:\n",
    "        q_mass.append(df['j_mass'][i])\n",
    "            np.asarray(q_mass)"
   ]
  },
  {
   "cell_type": "code",
   "execution_count": null,
   "metadata": {},
   "outputs": [],
   "source": [
    "labels = ['j_z']\n",
    "features = ['j_mass']\n",
    "df = pd.DataFrame(treeArray,columns=list(set(features+labels)))\n",
    "#print(df[:][:])\n",
    "\n",
    "z_mass = []\n",
    "\n",
    "for i in range(len(df)):\n",
    "    if df['j_z'][i] == 1:\n",
    "        z_mass.append(df['j_mass'][i])\n",
    "        np.asarray(z_mass)"
   ]
  },
  {
   "cell_type": "code",
   "execution_count": null,
   "metadata": {},
   "outputs": [],
   "source": [
    "plt.hist(top_mass, bins=100, alpha=0.5, label='top')\n",
    "plt.hist(w_mass,bins=100, alpha=0.5, label='c')\n",
    "plt.hist(z_mass,bins=100, alpha=0.5, label='d')\n",
    "plt.hist(g_mass,bins=100, alpha=0.5, label='d')\n",
    "plt.hist(q_mass,bins=100, alpha=0.5, label='d')\n",
    "plt.legend(loc='upper right')\n",
    "plt.show()"
   ]
  },
  {
   "cell_type": "code",
   "execution_count": null,
   "metadata": {},
   "outputs": [],
   "source": [
    "#reshape into 2d arrays\n",
    "top_mass = top_mass.reshape(-1,1)\n",
    "w_mass = w_mass.reshape(-1,1)\n",
    "g_mass = g_mass.reshape(-1,1)\n",
    "q_mass = q_mass.reshape(-1,1)\n",
    "z_mass = z_mass.reshape(-1,1)"
   ]
  },
  {
   "cell_type": "code",
   "execution_count": null,
   "metadata": {},
   "outputs": [],
   "source": [
    "scaler = preprocessing.MinMaxScaler().fit(top_mass)\n",
    "top_mass = scaler.transform(top_mass)\n",
    "\n",
    "scaler = preprocessing.MinMaxScaler().fit(w_mass)\n",
    "w_mass = scaler.transform(w_mass)\n",
    "\n",
    "scaler = preprocessing.MinMaxScaler().fit(g_mass)\n",
    "g_mass = scaler.transform(g_mass)\n",
    "\n",
    "scaler = preprocessing.MinMaxScaler().fit(q_mass)\n",
    "q_mass = scaler.transform(q_mass)\n",
    "\n",
    "scaler = preprocessing.MinMaxScaler().fit(z_mass)\n",
    "z_mass = scaler.transform(z_mass)"
   ]
  },
  {
   "cell_type": "markdown",
   "metadata": {},
   "source": [
    "Inputs before normalization"
   ]
  },
  {
   "cell_type": "code",
   "execution_count": 255,
   "metadata": {},
   "outputs": [
    {
     "data": {
      "image/png": "[encoded data removed]",
      "text/plain": [
       "<Figure size 432x288 with 1 Axes>"
      ]
     },
     "metadata": {
      "needs_background": "light"
     },
     "output_type": "display_data"
    }
   ],
   "source": [
    "plt.hist(tau, bins, alpha=0.5, label='tau')\n",
    "plt.hist(c, bins, alpha=0.5, label='c')\n",
    "plt.hist(d, bins, alpha=0.5, label='d')\n",
    "plt.legend(loc='upper right')\n",
    "plt.show()"
   ]
  },
  {
   "cell_type": "markdown",
   "metadata": {},
   "source": [
    "We need to reshape the input arrays in order to feed them into normalization function"
   ]
  },
  {
   "cell_type": "code",
   "execution_count": 256,
   "metadata": {},
   "outputs": [],
   "source": [
    "#reshape into 2d arrays\n",
    "tau = tau.reshape(-1,1)\n",
    "c = c.reshape(-1,1)\n",
    "d = d.reshape(-1,1)\n",
    "m = m.reshape(-1,1)\n",
    "n = n.reshape(-1,1)"
   ]
  },
  {
   "cell_type": "markdown",
   "metadata": {},
   "source": [
    "#### MinMax Scaler"
   ]
  },
  {
   "cell_type": "code",
   "execution_count": 257,
   "metadata": {},
   "outputs": [],
   "source": [
    "scaler = preprocessing.MinMaxScaler().fit(tau)\n",
    "tau = scaler.transform(tau)\n",
    "\n",
    "scaler = preprocessing.MinMaxScaler().fit(c)\n",
    "c = scaler.transform(c)\n",
    "\n",
    "scaler = preprocessing.MinMaxScaler().fit(d)\n",
    "d = scaler.transform(d)\n",
    "\n",
    "scaler = preprocessing.MinMaxScaler().fit(m)\n",
    "m = scaler.transform(m)\n",
    "\n",
    "scaler = preprocessing.MinMaxScaler().fit(n)\n",
    "n = scaler.transform(n)"
   ]
  },
  {
   "cell_type": "markdown",
   "metadata": {},
   "source": [
    "Normalized inputs"
   ]
  },
  {
   "cell_type": "code",
   "execution_count": 258,
   "metadata": {},
   "outputs": [
    {
     "data": {
      "image/png": "[encoded data removed]",
      "text/plain": [
       "<Figure size 432x288 with 1 Axes>"
      ]
     },
     "metadata": {
      "needs_background": "light"
     },
     "output_type": "display_data"
    }
   ],
   "source": [
    "plt.hist(tau, bins, alpha=0.5, label='tau')\n",
    "plt.hist(c, bins, alpha=0.5, label='c')\n",
    "plt.hist(d, bins, alpha=0.5, label='d')\n",
    "plt.hist(m, bins, alpha=0.5, label='m')\n",
    "plt.hist(n, bins, alpha=0.5, label='n')\n",
    "plt.title('MinMax Scaler Normalization')\n",
    "plt.xlabel('$m_{mMDT}$')\n",
    "plt.ylabel('# of events')\n",
    "plt.legend(loc='upper right')\n",
    "#plt.show()\n",
    "\n",
    "plt.savefig('/Users/sheilasagear/github/keras-training-ssagear/keras-training/exploratory/minmax_mmdt.png')"
   ]
  },
  {
   "cell_type": "markdown",
   "metadata": {},
   "source": [
    "#### Standard Scaler"
   ]
  },
  {
   "cell_type": "code",
   "execution_count": 259,
   "metadata": {},
   "outputs": [],
   "source": [
    "tau_s = treeArray['j_tau2_b1_mmdt']\n",
    "c_s = treeArray['j_c2_b1_mmdt']\n",
    "d_s = treeArray['j_d2_b1_mmdt']\n",
    "m_s = treeArray['j_m2_b1_mmdt']\n",
    "n_s = treeArray['j_n2_b1_mmdt']"
   ]
  },
  {
   "cell_type": "code",
   "execution_count": 260,
   "metadata": {},
   "outputs": [],
   "source": [
    "#reshape into 2d arrays\n",
    "tau_s = tau_s.reshape(-1,1)\n",
    "c_s = c_s.reshape(-1,1)\n",
    "d_s = d_s.reshape(-1,1)\n",
    "m_s = m_s.reshape(-1,1)\n",
    "n_s = n_s.reshape(-1,1)"
   ]
  },
  {
   "cell_type": "code",
   "execution_count": 261,
   "metadata": {},
   "outputs": [],
   "source": [
    "scaler = preprocessing.StandardScaler().fit(tau_s)\n",
    "tau_s = scaler.transform(tau_s)\n",
    "\n",
    "scaler = preprocessing.StandardScaler().fit(c_s)\n",
    "c_s = scaler.transform(c_s)\n",
    "\n",
    "scaler = preprocessing.StandardScaler().fit(d_s)\n",
    "d_s = scaler.transform(d_s)\n",
    "\n",
    "scaler = preprocessing.StandardScaler().fit(m_s)\n",
    "m_s = scaler.transform(m_s)\n",
    "\n",
    "scaler = preprocessing.StandardScaler().fit(n_s)\n",
    "n_s = scaler.transform(n_s)"
   ]
  },
  {
   "cell_type": "markdown",
   "metadata": {},
   "source": [
    "Normalized inputs"
   ]
  },
  {
   "cell_type": "code",
   "execution_count": 262,
   "metadata": {},
   "outputs": [
    {
     "data": {
      "image/png": "[encoded data removed]",
      "text/plain": [
       "<Figure size 432x288 with 1 Axes>"
      ]
     },
     "metadata": {
      "needs_background": "light"
     },
     "output_type": "display_data"
    }
   ],
   "source": [
    "plt.hist(tau_s, bins, alpha=0.5, label='tau')\n",
    "plt.hist(c_s, bins, alpha=0.5, label='c')\n",
    "plt.hist(d_s, bins, alpha=0.5, label='d')\n",
    "plt.hist(m_s, bins, alpha=0.5, label='m')\n",
    "plt.hist(n_s, bins, alpha=0.5, label='n')\n",
    "plt.title('Standard Scaler Normalization')\n",
    "plt.xlabel('$m_{mMDT}$')\n",
    "plt.ylabel('# of events')\n",
    "plt.legend(loc='upper right')\n",
    "#plt.show()\n",
    "\n",
    "plt.savefig('/Users/sheilasagear/github/keras-training-ssagear/keras-training/exploratory/standard_mmdt.png')"
   ]
  },
  {
   "cell_type": "markdown",
   "metadata": {},
   "source": [
    "#### MaxAbs Scaler"
   ]
  },
  {
   "cell_type": "code",
   "execution_count": 263,
   "metadata": {},
   "outputs": [],
   "source": [
    "tau = treeArray['j_tau2_b1_mmdt']\n",
    "c = treeArray['j_c2_b1_mmdt']\n",
    "d = treeArray['j_d2_b1_mmdt']\n",
    "m = treeArray['j_m2_b1_mmdt']\n",
    "n = treeArray['j_n2_b1_mmdt']"
   ]
  },
  {
   "cell_type": "code",
   "execution_count": 264,
   "metadata": {},
   "outputs": [],
   "source": [
    "#reshape into 2d arrays\n",
    "tau = tau.reshape(-1,1)\n",
    "c = c.reshape(-1,1)\n",
    "d = d.reshape(-1,1)\n",
    "m = m.reshape(-1,1)\n",
    "n = n.reshape(-1,1)"
   ]
  },
  {
   "cell_type": "code",
   "execution_count": 265,
   "metadata": {},
   "outputs": [],
   "source": [
    "scaler = preprocessing.MaxAbsScaler().fit(tau)\n",
    "tau = scaler.transform(tau)\n",
    "\n",
    "scaler = preprocessing.MaxAbsScaler().fit(c)\n",
    "c = scaler.transform(c)\n",
    "\n",
    "scaler = preprocessing.MaxAbsScaler().fit(d)\n",
    "d = scaler.transform(d)\n",
    "\n",
    "scaler = preprocessing.MaxAbsScaler().fit(m)\n",
    "m = scaler.transform(m)\n",
    "\n",
    "scaler = preprocessing.MaxAbsScaler().fit(n)\n",
    "n = scaler.transform(n)"
   ]
  },
  {
   "cell_type": "markdown",
   "metadata": {},
   "source": [
    "Normalized inputs"
   ]
  },
  {
   "cell_type": "code",
   "execution_count": 266,
   "metadata": {},
   "outputs": [
    {
     "data": {
      "image/png": "[encoded data removed]",
      "text/plain": [
       "<Figure size 432x288 with 1 Axes>"
      ]
     },
     "metadata": {
      "needs_background": "light"
     },
     "output_type": "display_data"
    }
   ],
   "source": [
    "plt.hist(tau, bins, alpha=0.5, label='tau')\n",
    "plt.hist(c, bins, alpha=0.5, label='c')\n",
    "plt.hist(d, bins, alpha=0.5, label='d')\n",
    "plt.hist(m, bins, alpha=0.5, label='m')\n",
    "plt.hist(n, bins, alpha=0.5, label='n')\n",
    "plt.title('MaxAbs Scaler Normalization')\n",
    "plt.xlabel('$m_{mMDT}$')\n",
    "plt.ylabel('# of events')\n",
    "plt.legend(loc='upper right')\n",
    "#plt.show()\n",
    "\n",
    "plt.savefig('/Users/sheilasagear/github/keras-training-ssagear/keras-training/exploratory/maxabs_mmdt.png')"
   ]
  },
  {
   "cell_type": "markdown",
   "metadata": {},
   "source": [
    "#### Robust Scaler"
   ]
  },
  {
   "cell_type": "code",
   "execution_count": 268,
   "metadata": {},
   "outputs": [],
   "source": [
    "tau = treeArray['j_tau2_b1_mmdt']\n",
    "c = treeArray['j_c2_b1_mmdt']\n",
    "d = treeArray['j_d2_b1_mmdt']\n",
    "m = treeArray['j_m2_b1_mmdt']\n",
    "n = treeArray['j_n2_b1_mmdt']"
   ]
  },
  {
   "cell_type": "code",
   "execution_count": 269,
   "metadata": {},
   "outputs": [],
   "source": [
    "#reshape into 2d arrays\n",
    "tau = tau.reshape(-1,1)\n",
    "c = c.reshape(-1,1)\n",
    "d = d.reshape(-1,1)\n",
    "m = m.reshape(-1,1)\n",
    "n = n.reshape(-1,1)"
   ]
  },
  {
   "cell_type": "code",
   "execution_count": 270,
   "metadata": {},
   "outputs": [],
   "source": [
    "scaler = preprocessing.RobustScaler().fit(tau)\n",
    "tau = scaler.transform(tau)\n",
    "\n",
    "scaler = preprocessing.RobustScaler().fit(c)\n",
    "c = scaler.transform(c)\n",
    "\n",
    "scaler = preprocessing.RobustScaler().fit(d)\n",
    "d = scaler.transform(d)\n",
    "\n",
    "scaler = preprocessing.RobustScaler().fit(m)\n",
    "m = scaler.transform(m)\n",
    "\n",
    "scaler = preprocessing.RobustScaler().fit(n)\n",
    "n = scaler.transform(n)"
   ]
  },
  {
   "cell_type": "markdown",
   "metadata": {},
   "source": [
    "Normalized inputs"
   ]
  },
  {
   "cell_type": "code",
   "execution_count": 271,
   "metadata": {},
   "outputs": [
    {
     "data": {
      "image/png": "[encoded data removed]",
      "text/plain": [
       "<Figure size 432x288 with 1 Axes>"
      ]
     },
     "metadata": {
      "needs_background": "light"
     },
     "output_type": "display_data"
    }
   ],
   "source": [
    "plt.hist(tau, bins, alpha=0.5, label='tau')\n",
    "plt.hist(c, bins, alpha=0.5, label='c')\n",
    "plt.hist(d, bins, alpha=0.5, label='d')\n",
    "plt.hist(m, bins, alpha=0.5, label='m')\n",
    "plt.hist(n, bins, alpha=0.5, label='n')\n",
    "plt.title('Robust Scaler Normalization')\n",
    "plt.xlabel('$m_{mMDT}$')\n",
    "plt.ylabel('# of events')\n",
    "plt.legend(loc='upper right')\n",
    "#plt.show()\n",
    "\n",
    "plt.savefig('/Users/sheilasagear/github/keras-training-ssagear/keras-training/exploratory/robust_mmdt.png')"
   ]
  },
  {
   "cell_type": "markdown",
   "metadata": {},
   "source": [
    "#### Power Transformation"
   ]
  },
  {
   "cell_type": "code",
   "execution_count": 272,
   "metadata": {},
   "outputs": [],
   "source": [
    "tau = treeArray['j_tau2_b1_mmdt']\n",
    "c = treeArray['j_c2_b1_mmdt']\n",
    "d = treeArray['j_d2_b1_mmdt']\n",
    "m = treeArray['j_m2_b1_mmdt']\n",
    "n = treeArray['j_n2_b1_mmdt']"
   ]
  },
  {
   "cell_type": "code",
   "execution_count": 273,
   "metadata": {},
   "outputs": [],
   "source": [
    "#reshape into 2d arrays\n",
    "tau = tau.reshape(-1,1)\n",
    "c = c.reshape(-1,1)\n",
    "d = d.reshape(-1,1)\n",
    "m = m.reshape(-1,1)\n",
    "n = n.reshape(-1,1)"
   ]
  },
  {
   "cell_type": "code",
   "execution_count": 274,
   "metadata": {},
   "outputs": [
    {
     "name": "stderr",
     "output_type": "stream",
     "text": [
      "/anaconda3/lib/python3.6/site-packages/numpy/core/_methods.py:36: RuntimeWarning: overflow encountered in reduce\n",
      "  return umr_sum(a, axis, dtype, out, keepdims, initial)\n"
     ]
    }
   ],
   "source": [
    "scaler = preprocessing.PowerTransformer().fit(tau)\n",
    "tau = scaler.transform(tau)\n",
    "\n",
    "scaler = preprocessing.PowerTransformer().fit(c)\n",
    "c = scaler.transform(c)\n",
    "\n",
    "scaler = preprocessing.PowerTransformer().fit(d)\n",
    "d = scaler.transform(d)\n",
    "\n",
    "scaler = preprocessing.PowerTransformer().fit(m)\n",
    "m = scaler.transform(m)\n",
    "\n",
    "scaler = preprocessing.PowerTransformer().fit(n)\n",
    "n = scaler.transform(n)"
   ]
  },
  {
   "cell_type": "markdown",
   "metadata": {},
   "source": [
    "Normalized inputs"
   ]
  },
  {
   "cell_type": "code",
   "execution_count": 275,
   "metadata": {},
   "outputs": [
    {
     "data": {
      "image/png": "[encoded data removed]",
      "text/plain": [
       "<Figure size 432x288 with 1 Axes>"
      ]
     },
     "metadata": {
      "needs_background": "light"
     },
     "output_type": "display_data"
    }
   ],
   "source": [
    "plt.hist(tau, bins, alpha=0.5, label='tau')\n",
    "plt.hist(c, bins, alpha=0.5, label='c')\n",
    "plt.hist(d, bins, alpha=0.5, label='d')\n",
    "plt.hist(m, bins, alpha=0.5, label='m')\n",
    "plt.hist(n, bins, alpha=0.5, label='n')\n",
    "plt.title('Power Transformer Normalization')\n",
    "plt.xlabel('$m_{mMDT}$')\n",
    "plt.ylabel('# of events')\n",
    "plt.legend(loc='upper right')\n",
    "#plt.show()\n",
    "\n",
    "plt.savefig('/Users/sheilasagear/github/keras-training-ssagear/keras-training/exploratory/power_mmdt.png')"
   ]
  },
  {
   "cell_type": "markdown",
   "metadata": {},
   "source": [
    "I don't think this is what we want"
   ]
  },
  {
   "cell_type": "markdown",
   "metadata": {},
   "source": [
    "## 2: some other input histograms"
   ]
  },
  {
   "cell_type": "code",
   "execution_count": 235,
   "metadata": {},
   "outputs": [],
   "source": [
    "tau = treeArray['j_tau2_b1']\n",
    "c = treeArray['j_c2_b1']\n",
    "d = treeArray['j_d2_b1']\n",
    "m = treeArray['j_m2_b1']\n",
    "n = treeArray['j_n2_b1']"
   ]
  },
  {
   "cell_type": "code",
   "execution_count": 236,
   "metadata": {},
   "outputs": [],
   "source": [
    "#reshape into 2d arrays\n",
    "tau = tau.reshape(-1,1)\n",
    "c = c.reshape(-1,1)\n",
    "d = d.reshape(-1,1)\n",
    "m = m.reshape(-1,1)\n",
    "n = n.reshape(-1,1)"
   ]
  },
  {
   "cell_type": "markdown",
   "metadata": {},
   "source": [
    "#### MinMax Scaler"
   ]
  },
  {
   "cell_type": "code",
   "execution_count": 237,
   "metadata": {},
   "outputs": [],
   "source": [
    "scaler = preprocessing.MinMaxScaler().fit(tau)\n",
    "tau = scaler.transform(tau)\n",
    "\n",
    "scaler = preprocessing.MinMaxScaler().fit(c)\n",
    "c = scaler.transform(c)\n",
    "\n",
    "scaler = preprocessing.MinMaxScaler().fit(d)\n",
    "d = scaler.transform(d)\n",
    "\n",
    "scaler = preprocessing.MinMaxScaler().fit(m)\n",
    "m = scaler.transform(m)\n",
    "\n",
    "scaler = preprocessing.MinMaxScaler().fit(n)\n",
    "n = scaler.transform(n)"
   ]
  },
  {
   "cell_type": "markdown",
   "metadata": {},
   "source": [
    "Normalized inputs"
   ]
  },
  {
   "cell_type": "code",
   "execution_count": 238,
   "metadata": {},
   "outputs": [
    {
     "data": {
      "image/png": "[encoded data removed]",
      "text/plain": [
       "<Figure size 432x288 with 1 Axes>"
      ]
     },
     "metadata": {
      "needs_background": "light"
     },
     "output_type": "display_data"
    }
   ],
   "source": [
    "plt.hist(tau, bins, alpha=0.5, label='tau')\n",
    "plt.hist(c, bins, alpha=0.5, label='c')\n",
    "plt.hist(d, bins, alpha=0.5, label='d')\n",
    "plt.hist(m, bins, alpha=0.5, label='m')\n",
    "plt.hist(n, bins, alpha=0.5, label='n')\n",
    "plt.title('MinMax Scaler Normalization')\n",
    "plt.xlabel('$something$')\n",
    "plt.ylabel('# of events')\n",
    "plt.legend(loc='upper right')\n",
    "#plt.show()\n",
    "\n",
    "plt.savefig('/Users/sheilasagear/github/keras-training-ssagear/keras-training/exploratory/minmax_b.png')"
   ]
  },
  {
   "cell_type": "markdown",
   "metadata": {},
   "source": [
    "#### Standard Scaler"
   ]
  },
  {
   "cell_type": "code",
   "execution_count": 239,
   "metadata": {},
   "outputs": [],
   "source": [
    "tau = treeArray['j_tau2_b1']\n",
    "c = treeArray['j_c2_b1']\n",
    "d = treeArray['j_d2_b1']\n",
    "m = treeArray['j_m2_b1']\n",
    "n = treeArray['j_n2_b1']"
   ]
  },
  {
   "cell_type": "code",
   "execution_count": 240,
   "metadata": {},
   "outputs": [],
   "source": [
    "#reshape into 2d arrays\n",
    "tau = tau.reshape(-1,1)\n",
    "c = c.reshape(-1,1)\n",
    "d = d.reshape(-1,1)\n",
    "m = m.reshape(-1,1)\n",
    "n = n.reshape(-1,1)"
   ]
  },
  {
   "cell_type": "code",
   "execution_count": 241,
   "metadata": {},
   "outputs": [],
   "source": [
    "scaler = preprocessing.StandardScaler().fit(tau)\n",
    "tau = scaler.transform(tau)\n",
    "\n",
    "scaler = preprocessing.StandardScaler().fit(c)\n",
    "c = scaler.transform(c)\n",
    "\n",
    "scaler = preprocessing.StandardScaler().fit(d)\n",
    "d = scaler.transform(d)\n",
    "\n",
    "scaler = preprocessing.StandardScaler().fit(m)\n",
    "m = scaler.transform(m)\n",
    "\n",
    "scaler = preprocessing.StandardScaler().fit(n)\n",
    "n = scaler.transform(n)"
   ]
  },
  {
   "cell_type": "markdown",
   "metadata": {},
   "source": [
    "Normalized inputs"
   ]
  },
  {
   "cell_type": "code",
   "execution_count": 242,
   "metadata": {},
   "outputs": [
    {
     "data": {
      "image/png": "[encoded data removed]",
      "text/plain": [
       "<Figure size 432x288 with 1 Axes>"
      ]
     },
     "metadata": {
      "needs_background": "light"
     },
     "output_type": "display_data"
    }
   ],
   "source": [
    "plt.hist(tau, bins, alpha=0.5, label='tau')\n",
    "plt.hist(c, bins, alpha=0.5, label='c')\n",
    "plt.hist(d, bins, alpha=0.5, label='d')\n",
    "plt.hist(m, bins, alpha=0.5, label='m')\n",
    "plt.hist(n, bins, alpha=0.5, label='n')\n",
    "plt.title('Standard Scaler Normalization')\n",
    "plt.xlabel('$something$')\n",
    "plt.ylabel('# of events')\n",
    "plt.legend(loc='upper right')\n",
    "#plt.show()\n",
    "\n",
    "plt.savefig('/Users/sheilasagear/github/keras-training-ssagear/keras-training/exploratory/standard_b.png')"
   ]
  },
  {
   "cell_type": "markdown",
   "metadata": {},
   "source": [
    "#### Why does StandardScaler look like this?? ^"
   ]
  },
  {
   "cell_type": "code",
   "execution_count": null,
   "metadata": {},
   "outputs": [],
   "source": []
  }
 ],
 "metadata": {
  "kernelspec": {
   "display_name": "Python 3",
   "language": "python",
   "name": "python3"
  }
 },
 "nbformat": 4,
 "nbformat_minor": 2
}
