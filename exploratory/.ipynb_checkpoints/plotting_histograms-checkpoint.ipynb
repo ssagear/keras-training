{
 "cells": [
  {
   "cell_type": "markdown",
   "metadata": {},
   "source": [
    "# Looking at .z data file"
   ]
  },
  {
   "cell_type": "code",
   "execution_count": 1,
   "metadata": {},
   "outputs": [],
   "source": [
    "import sys, os, getopt, h5py\n",
    "import numpy as np\n",
    "import matplotlib.pyplot as plt"
   ]
  },
  {
   "cell_type": "code",
   "execution_count": 2,
   "metadata": {},
   "outputs": [],
   "source": [
    "h5File = h5py.File('/Users/sheilasagear/github/keras-training-ssagear/keras-training/data/processed-pythia82-lhc13-all-pt1-50k-r1_h022_e0175_t220_nonu_truth.z')\n",
    "treeArray = h5File['t_allpar_new'][()]\n",
    "#print(treeArray.dtype.names)\n",
    "\n",
    "tau = treeArray['j_tau1_b1_mmdt']\n",
    "c = treeArray['j_c1_b1_mmdt']\n",
    "d = treeArray['j_d2_b1_mmdt']\n",
    "m = treeArray['j_m2_b1_mmdt']\n",
    "n = treeArray['j_n2_b1_mmdt']\n"
   ]
  },
  {
   "cell_type": "code",
   "execution_count": 43,
   "metadata": {},
   "outputs": [
    {
     "data": {
      "image/png": "[encoded data removed]",
      "text/plain": [
       "<Figure size 432x288 with 1 Axes>"
      ]
     },
     "metadata": {
      "needs_background": "light"
     },
     "output_type": "display_data"
    }
   ],
   "source": [
    "plt.hist(tau, bins, alpha=0.5, label='tau')\n",
    "plt.hist(c, bins, alpha=0.5, label='c')\n",
    "plt.hist(d, bins, alpha=0.5, label='d')\n",
    "plt.legend(loc='upper right')\n",
    "plt.show()"
   ]
  },
  {
   "cell_type": "code",
   "execution_count": null,
   "metadata": {},
   "outputs": [],
   "source": []
  }
 ],
 "metadata": {
  "kernelspec": {
   "display_name": "Python 3",
   "language": "python",
   "name": "python3"
  },
  "language_info": {
   "codemirror_mode": {
    "name": "ipython",
    "version": 3
   },
   "file_extension": ".py",
   "mimetype": "text/x-python",
   "name": "python",
   "nbconvert_exporter": "python",
   "pygments_lexer": "ipython3",
   "version": "3.6.8"
  }
 },
 "nbformat": 4,
 "nbformat_minor": 2
}
